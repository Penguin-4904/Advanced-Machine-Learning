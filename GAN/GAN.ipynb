{
 "cells": [
  {
   "cell_type": "markdown",
   "metadata": {},
   "source": [
    "Original code from https://github.com/eriklindernoren/Keras-GAN/blob/master/dcgan/dcgan.py under the following license:\n",
    "\n",
    "MIT License\n",
    "\n",
    "Copyright (c) 2017 Erik Linder-Norén\n",
    "\n",
    "Permission is hereby granted, free of charge, to any person obtaining a copy\n",
    "of this software and associated documentation files (the \"Software\"), to deal\n",
    "in the Software without restriction, including without limitation the rights\n",
    "to use, copy, modify, merge, publish, distribute, sublicense, and/or sell\n",
    "copies of the Software, and to permit persons to whom the Software is\n",
    "furnished to do so, subject to the following conditions:\n",
    "\n",
    "The above copyright notice and this permission notice shall be included in all\n",
    "copies or substantial portions of the Software.\n",
    "\n",
    "THE SOFTWARE IS PROVIDED \"AS IS\", WITHOUT WARRANTY OF ANY KIND, EXPRESS OR\n",
    "IMPLIED, INCLUDING BUT NOT LIMITED TO THE WARRANTIES OF MERCHANTABILITY,\n",
    "FITNESS FOR A PARTICULAR PURPOSE AND NONINFRINGEMENT. IN NO EVENT SHALL THE\n",
    "AUTHORS OR COPYRIGHT HOLDERS BE LIABLE FOR ANY CLAIM, DAMAGES OR OTHER\n",
    "LIABILITY, WHETHER IN AN ACTION OF CONTRACT, TORT OR OTHERWISE, ARISING FROM,\n",
    "OUT OF OR IN CONNECTION WITH THE SOFTWARE OR THE USE OR OTHER DEALINGS IN THE\n",
    "SOFTWARE.\n"
   ]
  },
  {
   "cell_type": "markdown",
   "metadata": {},
   "source": [
    "The author's model was based on the paper here: https://arxiv.org/pdf/1511.06434.pdf"
   ]
  },
  {
   "cell_type": "markdown",
   "metadata": {},
   "source": [
    "## Before you run this:\n",
    "1. Install h5, with `pip3 install h5py`\n",
    "1. Download the three h5 files: [generator](https://github.com/jennselby/MachineLearningTutorials/raw/master/generator.h5), [discriminator](https://github.com/jennselby/MachineLearningTutorials/raw/master/discriminator.h5), and [combined](https://github.com/jennselby/MachineLearningTutorials/raw/master/combined.h5) and save them in the same folder as this file."
   ]
  },
  {
   "cell_type": "code",
   "execution_count": 3,
   "metadata": {},
   "outputs": [],
   "source": [
    "%matplotlib inline"
   ]
  },
  {
   "cell_type": "code",
   "execution_count": 21,
   "metadata": {},
   "outputs": [],
   "source": [
    "from __future__ import print_function, division\n",
    "\n",
    "from keras.datasets import mnist\n",
    "from keras.layers import Input, Dense, Reshape, Flatten, Dropout\n",
    "from keras.layers import BatchNormalization, Activation, ZeroPadding2D\n",
    "from keras.layers.advanced_activations import LeakyReLU\n",
    "from keras.layers.convolutional import UpSampling2D, Conv2D\n",
    "from keras.layers.convolutional import UpSampling3D, Conv3D\n",
    "from keras.models import Sequential, Model\n",
    "from keras.optimizers import Adam\n",
    "\n",
    "import matplotlib.pyplot as plt\n",
    "\n",
    "import sys\n",
    "\n",
    "import numpy as np"
   ]
  },
  {
   "cell_type": "code",
   "execution_count": 393,
   "metadata": {},
   "outputs": [],
   "source": [
    "# Global Constants\n",
    "images_dir = \"dcgan_images_flags_small_4000\"\n",
    "img_rows = 10\n",
    "img_cols = 16\n",
    "channels = 3\n",
    "noise_len = 100\n",
    "\n",
    "img_shape = (img_rows, img_cols, channels)"
   ]
  },
  {
   "cell_type": "markdown",
   "metadata": {},
   "source": [
    "## Define functions for creating, training, and using the models"
   ]
  },
  {
   "cell_type": "code",
   "execution_count": 32,
   "metadata": {},
   "outputs": [],
   "source": [
    "def build_discriminator():\n",
    "    '''\n",
    "    Put together a CNN that will return a single confidence output.\n",
    "    \n",
    "    returns: the model object\n",
    "    '''\n",
    "\n",
    "    img_shape = (img_rows, img_cols, channels)\n",
    "\n",
    "    model = Sequential()\n",
    "\n",
    "    model.add(Conv2D(32, kernel_size=3, strides=2, input_shape=img_shape, padding=\"same\"))\n",
    "    model.add(LeakyReLU(alpha=0.2))\n",
    "    model.add(Dropout(0.25))\n",
    "    model.add(Conv2D(64, kernel_size=3, strides=2, padding=\"same\"))\n",
    "    model.add(ZeroPadding2D(padding=((0,1),(0,1))))\n",
    "    model.add(LeakyReLU(alpha=0.2))\n",
    "    model.add(Dropout(0.25))\n",
    "    model.add(BatchNormalization(momentum=0.8))\n",
    "    model.add(Conv2D(128, kernel_size=3, strides=2, padding=\"same\"))\n",
    "    model.add(LeakyReLU(alpha=0.2))\n",
    "    model.add(Dropout(0.25))\n",
    "    model.add(BatchNormalization(momentum=0.8))\n",
    "    model.add(Conv2D(256, kernel_size=3, strides=1, padding=\"same\"))\n",
    "    model.add(LeakyReLU(alpha=0.2))\n",
    "    model.add(Dropout(0.25))\n",
    "\n",
    "    model.add(Flatten())\n",
    "    model.add(Dense(1, activation='sigmoid'))\n",
    "\n",
    "    return model"
   ]
  },
  {
   "cell_type": "code",
   "execution_count": 387,
   "metadata": {},
   "outputs": [],
   "source": [
    "def build_generator():\n",
    "    '''\n",
    "    Put together a model that takes in one-dimensional noise and outputs two-dimensional data representing a black\n",
    "    and white image, with -1 for black and 1 for white.\n",
    "    \n",
    "    returns: the model object\n",
    "    '''\n",
    "\n",
    "    noise_shape = (noise_len,)\n",
    "\n",
    "    model = Sequential()\n",
    "\n",
    "    model.add(Dense(128 * 4 * 5, activation=\"relu\", input_shape=noise_shape))\n",
    "    model.add(Reshape((5, 4, 128)))\n",
    "    model.add(BatchNormalization(momentum=0.8))\n",
    "    model.add(UpSampling2D())\n",
    "    model.add(Conv2D(128, kernel_size=3, padding=\"same\"))\n",
    "    model.add(Activation(\"relu\"))\n",
    "    model.add(BatchNormalization(momentum=0.8)) \n",
    "    model.add(UpSampling2D(size = (1, 2)))\n",
    "    model.add(Conv2D(64, kernel_size=3, padding=\"same\"))\n",
    "    model.add(Activation(\"relu\"))\n",
    "    model.add(BatchNormalization(momentum=0.8))\n",
    "    model.add(Conv2D(3, kernel_size=3, padding=\"same\"))\n",
    "    model.add(Activation(\"tanh\"))\n",
    "\n",
    "    return model"
   ]
  },
  {
   "cell_type": "code",
   "execution_count": 8,
   "metadata": {},
   "outputs": [],
   "source": [
    "def build_combined():\n",
    "    '''\n",
    "    Puts together a model that combines the discriminator and generator models.\n",
    "    \n",
    "    returns: the generator, discriminator, and combined model objects\n",
    "    '''\n",
    "    \n",
    "    optimizer = Adam(0.0002, 0.5)\n",
    "\n",
    "    # Build and compile the discriminator\n",
    "    discriminator = build_discriminator()\n",
    "    discriminator.compile(loss='binary_crossentropy', \n",
    "                          optimizer=optimizer,\n",
    "                          metrics=['accuracy'])\n",
    "\n",
    "\n",
    "    # Build and compile the generator\n",
    "    generator = build_generator()\n",
    "    generator.compile(loss='binary_crossentropy', optimizer=optimizer)\n",
    "\n",
    "    # The generator takes noise as input and generates images\n",
    "    noise = Input(shape=(noise_len,))\n",
    "    img = generator(noise)\n",
    "    \n",
    "    # For the combined model we will only train the generator\n",
    "    discriminator.trainable = False\n",
    "\n",
    "    # The discriminator takes generated images as input and determines validity\n",
    "    valid = discriminator(img)\n",
    "\n",
    "    # The combined model  (stacked generator and discriminator) takes\n",
    "    # noise as input => generates images => determines validity \n",
    "    combined = Model(inputs=noise, outputs=valid)\n",
    "    combined.compile(loss='binary_crossentropy', optimizer=optimizer)\n",
    "    return generator, discriminator, combined"
   ]
  },
  {
   "cell_type": "code",
   "execution_count": 198,
   "metadata": {},
   "outputs": [],
   "source": [
    "def save_imgs(generator, epoch):\n",
    "    '''\n",
    "    Has the generator create images and saves the images in a single file that includes the epoch in the filename.\n",
    "    \n",
    "    inputs:\n",
    "        generator: the generator model object returned by build_combined\n",
    "        epoch: the epoch number (but can be anything that can be represented as a string)\n",
    "    \n",
    "    returns: None\n",
    "    '''\n",
    "    r, c = 5, 5\n",
    "    noise = np.random.normal(0, 1, (r * c, noise_len))\n",
    "    gen_imgs = generator.predict(noise)\n",
    "\n",
    "    # Rescale images 0 - 1\n",
    "    gen_imgs = 0.5 * gen_imgs + 0.5\n",
    "\n",
    "    fig, axs = plt.subplots(r, c)\n",
    "    #fig.suptitle(\"DCGAN: Generated digits\", fontsize=12)\n",
    "    cnt = 0\n",
    "    for i in range(r):\n",
    "        for j in range(c):\n",
    "            axs[i,j].imshow(((gen_imgs[cnt, :,:,:] * 127.5) + 127.5).astype(np.uint8), vmax = 1, vmin=0)\n",
    "            axs[i,j].axis('off')\n",
    "            cnt += 1\n",
    "    fig.savefig(os.path.join(images_dir, 'mnist_{}.png'.format(epoch)))\n",
    "    plt.close()"
   ]
  },
  {
   "cell_type": "code",
   "execution_count": 378,
   "metadata": {},
   "outputs": [],
   "source": [
    "def train(generator, discriminator, combined, epochs, batch_size=128, save_interval=50, img_gen = None):\n",
    "    '''\n",
    "    Trains all model objects\n",
    "    \n",
    "    generator: the generator model object returned by build_combined\n",
    "    discriminator: the discriminator model object returned by build_combined\n",
    "    combined: the combined model object returned by build_combined\n",
    "    epochs: integer, the number of epochs to train for\n",
    "    batch_size: integer, the number of training samples to use at a time\n",
    "    save_interval: integer, will generate and save images when the current epoch % save_interval is 0\n",
    "    \n",
    "    returns: None\n",
    "    '''\n",
    "\n",
    "#     # Load the dataset\n",
    "#     X_data, (_, _) = mnist.load_data()\n",
    "\n",
    "#     X_train = []\n",
    "#     for i in range(len(X_data[0])): # sorting out 4's\n",
    "#         if X_data[1][i] == 4:\n",
    "#             X_train.append(X_data[0][i])\n",
    "            \n",
    "#     X_train = np.array(X_train)\n",
    "\n",
    "#     # Rescale -1 to 1\n",
    "#     X_train = (X_train.astype(np.float32) - 127.5) / 127.5\n",
    "#     X_train = np.expand_dims(X_train, axis=3)\n",
    "    \n",
    "#     #inserting emoji images instead.\n",
    "#     X_train = np.array(emojis)\n",
    "#     X_train = (X_train.astype(np.float32) - 127.5) / 127.5\n",
    "    \n",
    "    #inserting Flags images instead.\n",
    "    X_train = np.array(flags_v2)\n",
    "    X_train = (X_train.astype(np.float32) - 127.5) / 127.5\n",
    "\n",
    "    half_batch = int(batch_size / 2)\n",
    "\n",
    "    for epoch in range(epochs):\n",
    "\n",
    "        # ---------------------\n",
    "        #  Train Discriminator\n",
    "        # ---------------------\n",
    "\n",
    "        # Select a random half batch of images\n",
    "        \n",
    "        if img_gen != None:\n",
    "            imgs = [img_gen(img_shape) for i in range (half_batch)] # using geenerated images to train the GAN\n",
    "            imgs = np.array(imgs)\n",
    "            imgs = np.expand_dims(imgs, axis=3)\n",
    "        else:\n",
    "            idx = np.random.randint(0, X_train.shape[0], half_batch)\n",
    "            imgs = X_train[idx]\n",
    "        \n",
    "        # Sample noise and generate a half batch of new images\n",
    "        noise = np.random.normal(0, 1, (half_batch, noise_len))\n",
    "        gen_imgs = generator.predict(noise)\n",
    "\n",
    "        # Train the discriminator (real classified as ones and generated as zeros)\n",
    "        d_loss_real = discriminator.train_on_batch(imgs, np.ones((half_batch, 1)))\n",
    "        d_loss_fake = discriminator.train_on_batch(gen_imgs, np.zeros((half_batch, 1)))\n",
    "\n",
    "        # ---------------------\n",
    "        #  Train Generator\n",
    "        # ---------------------\n",
    "\n",
    "        noise = np.random.normal(0, 1, (batch_size, noise_len))\n",
    "\n",
    "        # Train the generator (wants discriminator to mistake images as real)\n",
    "        g_loss = combined.train_on_batch(noise, np.ones((batch_size, 1)))\n",
    "\n",
    "        # If at save interval => save generated image samples and plot progress\n",
    "        if epoch % save_interval == 0:\n",
    "            # Plot the progress\n",
    "            d_loss = 0.5 * np.add(d_loss_real, d_loss_fake)\n",
    "            print (\"{} [D loss: {}, acc.: {:.2%}] [G loss: {}]\".format(epoch, d_loss[0], d_loss[1], g_loss))\n",
    "            save_imgs(generator, epoch)"
   ]
  },
  {
   "cell_type": "code",
   "execution_count": 188,
   "metadata": {},
   "outputs": [],
   "source": [
    "def show_new_image(generator):\n",
    "    '''\n",
    "    Generates and displays a new image\n",
    "    \n",
    "    inputs: generator object model returned from build_combined\n",
    "    \n",
    "    returns: generated image\n",
    "    '''\n",
    "    \n",
    "    noise = np.random.normal(0, 1, (1, noise_len))\n",
    "    gen_img = ((generator.predict(noise)[0] * 127.5) + 127.5).astype(np.uint8)\n",
    "    return plt.imshow(gen_img)"
   ]
  },
  {
   "cell_type": "markdown",
   "metadata": {},
   "source": [
    "## Generating Images:\n",
    "\n",
    "First Attempt at generating images:"
   ]
  },
  {
   "cell_type": "code",
   "execution_count": 12,
   "metadata": {},
   "outputs": [
    {
     "data": {
      "text/plain": [
       "<matplotlib.image.AxesImage at 0x1146fbe80>"
      ]
     },
     "execution_count": 12,
     "metadata": {},
     "output_type": "execute_result"
    },
    {
     "data": {
      "image/png": "[encoded data removed]",
      "text/plain": [
       "<matplotlib.figure.Figure at 0x11468cf60>"
      ]
     },
     "metadata": {},
     "output_type": "display_data"
    }
   ],
   "source": [
    "\n",
    "def gen_img_solid_horizontal(img_size, stripe_size = 1):\n",
    "    img = []\n",
    "    mod = np.random.randint(2, int((img_size[0]/2)))\n",
    "    #print (\"mod: \" + str(mod))\n",
    "    for i in range(int(img_size[1]/stripe_size)):\n",
    "        color = -1\n",
    "        if i % mod == 0:\n",
    "            color = 1\n",
    "        for i in range(stripe_size):\n",
    "            img.append([color for i in range(img_size[0])])\n",
    "    for i in range(img_size[1] % stripe_size):\n",
    "        img.append([-1 for i in range(img_size[0])])\n",
    "    return img\n",
    "\n",
    "def gen_img_vary_horizontal(img_size, strp_size = 1):\n",
    "    img = []\n",
    "    mod = np.random.randint(2, int(img_size[0]/2))\n",
    "    #print (\"mod: \" + str(mod))\n",
    "    for i in range(img_size[1]):\n",
    "        color = -1\n",
    "        if i % mod == 0:\n",
    "            color = np.random.randint(-100, 100)/100\n",
    "        img.append([color for i in range(img_size[0])])\n",
    "    return img\n",
    "\n",
    "def gen_img_vary_vary_horizontal(img_size, strp_size = 1):\n",
    "    img = []\n",
    "    mod = np.random.randint(2, int(img_size[0]/2))\n",
    "    #print (\"mod: \" + str(mod))\n",
    "    for i in range(img_size[1]):\n",
    "        if i % mod == 0:\n",
    "            img.append([(np.random.randint(-100, 100)/100) for i in range(img_size[0])])\n",
    "        else: \n",
    "            img.append([-1 for i in range(img_size[0])])\n",
    "    return img\n",
    "\n",
    "img = gen_img_solid_horizontal([10, 10], stripe_size = 1)\n",
    "plt.imshow(img, cmap='gray', vmin=-1, vmax=1)\n",
    "    "
   ]
  },
  {
   "cell_type": "markdown",
   "metadata": {},
   "source": [
    "A simpler stripes Generation"
   ]
  },
  {
   "cell_type": "code",
   "execution_count": 13,
   "metadata": {},
   "outputs": [
    {
     "data": {
      "text/plain": [
       "<matplotlib.image.AxesImage at 0x1148476d8>"
      ]
     },
     "execution_count": 13,
     "metadata": {},
     "output_type": "execute_result"
    },
    {
     "data": {
      "image/png": "[encoded data removed]",
      "text/plain": [
       "<matplotlib.figure.Figure at 0x1146979b0>"
      ]
     },
     "metadata": {},
     "output_type": "display_data"
    }
   ],
   "source": [
    "def gen_img_stripes(img_size):\n",
    "    img = [np.random.randint(0, 2) for i in range(img_size[1])]\n",
    "    img = [([1] * img_size[0] if i == 1 else [-1] * img_size[0]) for i in img]\n",
    "    return img\n",
    "\n",
    "    \n",
    "img = gen_img_stripes([10, 10])\n",
    "plt.imshow(img, cmap='gray', vmin=-1, vmax=1)"
   ]
  },
  {
   "cell_type": "markdown",
   "metadata": {},
   "source": [
    "Code to generate crosses."
   ]
  },
  {
   "cell_type": "code",
   "execution_count": 14,
   "metadata": {},
   "outputs": [
    {
     "data": {
      "text/plain": [
       "<matplotlib.image.AxesImage at 0x1148a4940>"
      ]
     },
     "execution_count": 14,
     "metadata": {},
     "output_type": "execute_result"
    },
    {
     "data": {
      "image/png": "[encoded data removed]",
      "text/plain": [
       "<matplotlib.figure.Figure at 0x114867c50>"
      ]
     },
     "metadata": {},
     "output_type": "display_data"
    }
   ],
   "source": [
    "def gen_img_cross(img_size):\n",
    "    coord = [np.random.randint(1, img_size[0] - 1), np.random.randint(1, img_size[1] - 1)]\n",
    "    img = np.array([[-1 for n in range(img_size[0])] for i in range(img_size[1])])\n",
    "    for i in range(img_size[1]):\n",
    "        for n in range(img_size[0]):\n",
    "            if abs(coord[1] - i) == abs(coord[0] - n):\n",
    "                img[i][n] = 1\n",
    "    return img\n",
    "\n",
    "img = gen_img_cross([10, 10])\n",
    "plt.imshow(img, cmap='gray', vmin=-1, vmax=1)"
   ]
  },
  {
   "cell_type": "code",
   "execution_count": 15,
   "metadata": {
    "scrolled": false
   },
   "outputs": [
    {
     "data": {
      "text/plain": [
       "<matplotlib.image.AxesImage at 0x114959ef0>"
      ]
     },
     "execution_count": 15,
     "metadata": {},
     "output_type": "execute_result"
    },
    {
     "data": {
      "image/png": "[encoded data removed]",
      "text/plain": [
       "<matplotlib.figure.Figure at 0x1148c6be0>"
      ]
     },
     "metadata": {},
     "output_type": "display_data"
    }
   ],
   "source": [
    "def gen_img_cross_big(img_size, grad = 4):\n",
    "    coord = [int(img_size[0]/2), int((img_size[1]/2))]\n",
    "    img = np.array([[-1.0 for n in range(img_size[0])] for i in range(img_size[1])])\n",
    "    for i in range(img_size[1]):\n",
    "        for n in range(img_size[0]):\n",
    "            for k in reversed(range(1, int(max(img_size)/grad))):\n",
    "                if abs(coord[1] - i) - k== abs(coord[0] - n):\n",
    "                    img[i][n] = np.random.randint(-100, (100 - int(k * 200/(max(img_size)/grad))))/100\n",
    "                if abs(coord[1] - i) + k== abs(coord[0] - n):\n",
    "                    img[i][n] = np.random.randint(-100, (100 - int(k * 200/(max(img_size)/grad))))/100\n",
    "            if abs(coord[1] - i) == abs(coord[0] - n):\n",
    "                img[i][n] = np.random.randint(50, 100)/100\n",
    "    return img\n",
    "\n",
    "img = gen_img_cross_big([28, 28])\n",
    "plt.imshow(img, cmap='gray', vmin=-1, vmax=1)"
   ]
  },
  {
   "cell_type": "markdown",
   "metadata": {},
   "source": [
    "##  Importing and Formatting Flags"
   ]
  },
  {
   "cell_type": "code",
   "execution_count": 194,
   "metadata": {},
   "outputs": [
    {
     "data": {
      "text/plain": [
       "<matplotlib.image.AxesImage at 0x1b4ffda20>"
      ]
     },
     "execution_count": 194,
     "metadata": {},
     "output_type": "execute_result"
    },
    {
     "data": {
      "image/png": "[encoded data removed]",
      "text/plain": [
       "<matplotlib.figure.Figure at 0x1b4fa5240>"
      ]
     },
     "metadata": {},
     "output_type": "display_data"
    }
   ],
   "source": [
    "from PIL import Image as Image\n",
    "from PIL import ImageOps as Image_op\n",
    "\n",
    "flags = []\n",
    "directory = os.fsencode(\"32x32_flat_flags\")\n",
    "\n",
    "for file in os.listdir(directory):\n",
    "    filename = os.fsdecode(file)\n",
    "    if filename.endswith(\".png\"): \n",
    "        img = Image.open(os.path.join(directory, os.fsencode(filename)))\n",
    "        img = img.convert(mode = 'RGB')\n",
    "        flags.append(np.array(img.getdata()).reshape(32, 32, 3).astype(np.uint8))\n",
    "        \n",
    "\n",
    "plt.imshow(flags[10], vmin = 0, vmax = 255)"
   ]
  },
  {
   "cell_type": "code",
   "execution_count": 588,
   "metadata": {},
   "outputs": [],
   "source": [
    "from PIL import Image as Image\n",
    "from PIL import ImageOps as Image_op\n",
    "\n",
    "flags_v2 = []\n",
    "flags_v2_names = []\n",
    "directory = os.fsencode(\"16x10\")\n",
    "\n",
    "for folder in os.listdir(directory):\n",
    "    if os.fsdecode(folder) != '.DS_Store':   \n",
    "        for file in os.listdir(os.path.join(directory, folder)):\n",
    "            filename = os.fsdecode(file)\n",
    "            if filename.endswith(\".png\"): \n",
    "                img = Image.open(os.path.join(os.path.join(directory, folder), os.fsencode(filename)))\n",
    "                img = img.convert(mode = 'RGB')\n",
    "                flags_v2.append(np.array(img.getdata()).reshape(10, 16, 3).astype(np.uint8))\n",
    "                flags_v2_names.append(filename)\n",
    "        \n",
    "\n"
   ]
  },
  {
   "cell_type": "code",
   "execution_count": 544,
   "metadata": {},
   "outputs": [
    {
     "data": {
      "image/png": "[encoded data removed]",
      "text/plain": [
       "<matplotlib.figure.Figure at 0x1c39ab240>"
      ]
     },
     "metadata": {},
     "output_type": "display_data"
    },
    {
     "data": {
      "image/png": "[encoded data removed]",
      "text/plain": [
       "<matplotlib.figure.Figure at 0x1c20b1fd0>"
      ]
     },
     "metadata": {},
     "output_type": "display_data"
    },
    {
     "data": {
      "image/png": "[encoded data removed]",
      "text/plain": [
       "<matplotlib.figure.Figure at 0x1959cdc18>"
      ]
     },
     "metadata": {},
     "output_type": "display_data"
    },
    {
     "data": {
      "image/png": "[encoded data removed]",
      "text/plain": [
       "<matplotlib.figure.Figure at 0x197abe5c0>"
      ]
     },
     "metadata": {},
     "output_type": "display_data"
    },
    {
     "name": "stdout",
     "output_type": "stream",
     "text": [
      "[63, 63, 63]\n",
      "1271\n"
     ]
    },
    {
     "name": "stderr",
     "output_type": "stream",
     "text": [
      "/usr/local/lib/python3.6/site-packages/ipykernel_launcher.py:13: RuntimeWarning: overflow encountered in ubyte_scalars\n",
      "  del sys.path[0]\n"
     ]
    },
    {
     "data": {
      "image/png": "[encoded data removed]",
      "text/plain": [
       "<matplotlib.figure.Figure at 0x198369b00>"
      ]
     },
     "metadata": {},
     "output_type": "display_data"
    },
    {
     "name": "stdout",
     "output_type": "stream",
     "text": [
      "1312\n"
     ]
    },
    {
     "data": {
      "image/png": "[encoded data removed]",
      "text/plain": [
       "<matplotlib.figure.Figure at 0x19a6f40f0>"
      ]
     },
     "metadata": {},
     "output_type": "display_data"
    },
    {
     "name": "stdout",
     "output_type": "stream",
     "text": [
      "580\n"
     ]
    },
    {
     "data": {
      "image/png": "[encoded data removed]",
      "text/plain": [
       "<matplotlib.figure.Figure at 0x19a70f780>"
      ]
     },
     "metadata": {},
     "output_type": "display_data"
    },
    {
     "name": "stdout",
     "output_type": "stream",
     "text": [
      "486\n"
     ]
    },
    {
     "data": {
      "image/png": "[encoded data removed]",
      "text/plain": [
       "<matplotlib.figure.Figure at 0x19aa2ff98>"
      ]
     },
     "metadata": {},
     "output_type": "display_data"
    },
    {
     "data": {
      "image/png": "[encoded data removed]",
      "text/plain": [
       "<matplotlib.figure.Figure at 0x19835af98>"
      ]
     },
     "metadata": {},
     "output_type": "display_data"
    },
    {
     "data": {
      "image/png": "[encoded data removed]",
      "text/plain": [
       "<matplotlib.figure.Figure at 0x19c338d68>"
      ]
     },
     "metadata": {},
     "output_type": "display_data"
    },
    {
     "data": {
      "image/png": "[encoded data removed]",
      "text/plain": [
       "<matplotlib.figure.Figure at 0x19c2644a8>"
      ]
     },
     "metadata": {},
     "output_type": "display_data"
    }
   ],
   "source": [
    "plt.imshow(flags_v2[610], vmin = 0, vmax = 255)\n",
    "plt.show() # as seen from this demonstration the flags are made to seem 3d, now we need to make a mask to correct that bc I don't want that.\n",
    "plt.imshow(flags_v2[106], vmin = 0, vmax = 255)\n",
    "plt.show()\n",
    "plt.imshow(flags_v2[107], vmin = 0, vmax = 255)\n",
    "plt.show()\n",
    "mask = np.concatenate((np.concatenate((flags_v2[610][0:4], flags_v2[106][4:7])), flags_v2[107][7:10]))\n",
    "plt.imshow(mask, vmin = 0, vmax = 255)\n",
    "plt.show()\n",
    "\n",
    "mask = np.array(mask)\n",
    "\n",
    "color = [int((mask.max() + mask.min())/2)]*3\n",
    "print(color)\n",
    "for i in range(len(mask)):\n",
    "    for n in range(len(mask[i])):\n",
    "        mask[i][n] = mask[i][n] - color\n",
    "\n",
    "        \n",
    "plt.imshow(mask, vmin = 0, vmax = 255)\n",
    "\n",
    "print(flags_v2_names.index('pahang.png'))\n",
    "plt.imshow(flags_v2[1271], vmin = 0, vmax = 255)\n",
    "plt.show()\n",
    "print(flags_v2_names.index('finnmark.png'))\n",
    "plt.imshow(flags_v2[1312], vmin = 0, vmax = 255)\n",
    "plt.show()\n",
    "print(flags_v2_names.index('baden-wurttemberg.png'))\n",
    "plt.imshow(flags_v2[580], vmin = 0, vmax = 255)\n",
    "plt.show()\n",
    "print(flags_v2_names.index('fribourg.png'))\n",
    "plt.imshow(flags_v2[486], vmin = 0, vmax = 255)\n",
    "plt.show()\n",
    "\n",
    "mask_1 = np.concatenate((flags_v2[1271][0:5], flags_v2[486][5:10]))\n",
    "plt.imshow(mask_1, vmin = 0, vmax = 255)\n",
    "plt.show()\n",
    "mask_2 = np.concatenate((flags_v2[486][0:5], flags_v2[1271][5:10]))\n",
    "plt.imshow(mask_2, vmin = 0, vmax = 255)\n",
    "plt.show()\n",
    "\n",
    "mask_3 = []\n",
    "for y in range(len(mask_1)):\n",
    "    mask_3.append([])\n",
    "    for x in range(len(mask_1[y])):\n",
    "        mask_3[-1].append(np.array((mask_1[y][x] - mask_2[y][x])).astype(np.uint8))\n",
    "        \n",
    "mask = np.array(mask_3)\n",
    "mask = mask - mask.min()\n",
    "plt.imshow(mask, vmin = 0, vmax = 255)\n",
    "plt.show()        \n"
   ]
  },
  {
   "cell_type": "code",
   "execution_count": 587,
   "metadata": {},
   "outputs": [
    {
     "data": {
      "image/png": "[encoded data removed]",
      "text/plain": [
       "<matplotlib.figure.Figure at 0x1cb3165c0>"
      ]
     },
     "metadata": {},
     "output_type": "display_data"
    },
    {
     "data": {
      "image/png": "[encoded data removed]",
      "text/plain": [
       "<matplotlib.figure.Figure at 0x177958eb8>"
      ]
     },
     "metadata": {},
     "output_type": "display_data"
    },
    {
     "data": {
      "image/png": "[encoded data removed]",
      "text/plain": [
       "<matplotlib.figure.Figure at 0x1cb310a90>"
      ]
     },
     "metadata": {},
     "output_type": "display_data"
    },
    {
     "data": {
      "image/png": "[encoded data removed]",
      "text/plain": [
       "<matplotlib.figure.Figure at 0x18dd76358>"
      ]
     },
     "metadata": {},
     "output_type": "display_data"
    },
    {
     "data": {
      "image/png": "[encoded data removed]",
      "text/plain": [
       "<matplotlib.figure.Figure at 0x191f05f28>"
      ]
     },
     "metadata": {},
     "output_type": "display_data"
    }
   ],
   "source": [
    "mask_1 = np.concatenate((flags_v2[1271][0:5], flags_v2[486][5:10]))\n",
    "mask_3 = (mask_1 - mask_2)\n",
    "flag = 150\n",
    "\n",
    "plt.imshow(np.array(flags_v2[flag]), vmin = 0, vmax = 255)\n",
    "plt.show()\n",
    "\n",
    "flag_test = flags_v2[flag]\n",
    "\n",
    "flag_test = 255 - ((mask_1 - flag_test ))\n",
    "plt.imshow(flag_test, vmin = 0, vmax = 255)\n",
    "plt.show()\n",
    "\n",
    "flag_test = (flag_test + mask_3)\n",
    "plt.imshow(flag_test, vmin = 0, vmax = 255)\n",
    "plt.show()\n",
    "flag_test = np.clip(flag_test, 0, 255)\n",
    "\n",
    "\n",
    "plt.imshow(flag_test, vmin = 0, vmax = 255)\n",
    "plt.show()\n",
    "plt.imshow(mask_3, vmin = 0, vmax = 255)\n",
    "plt.show()"
   ]
  },
  {
   "cell_type": "markdown",
   "metadata": {},
   "source": [
    "## This is the main section of the code, that actually creates the model objects"
   ]
  },
  {
   "cell_type": "code",
   "execution_count": 394,
   "metadata": {},
   "outputs": [],
   "source": [
    "# set up directories to hold the images that are saved during training checkpoints.\n",
    "import os\n",
    "\n",
    "if (not os.path.isdir(images_dir)):\n",
    "    os.mkdir(images_dir)"
   ]
  },
  {
   "cell_type": "code",
   "execution_count": 395,
   "metadata": {},
   "outputs": [],
   "source": [
    "# Uncomment if you wantto build your own new models\n",
    "generator, discriminator, combined = build_combined()"
   ]
  },
  {
   "cell_type": "markdown",
   "metadata": {},
   "source": [
    "**Make sure that you have downloaded the three h5 files before running the next block.**"
   ]
  },
  {
   "cell_type": "code",
   "execution_count": 41,
   "metadata": {},
   "outputs": [],
   "source": [
    "# Load the saved model files. Comment out (or don't run) this block if you want to start with fresh models.\n",
    "from keras.models import load_model\n",
    "\n",
    "generator = load_model('generator.h5')\n",
    "discriminator = load_model('discriminator.h5')\n",
    "combined = load_model('combined.h5')"
   ]
  },
  {
   "cell_type": "code",
   "execution_count": 396,
   "metadata": {
    "scrolled": true
   },
   "outputs": [
    {
     "name": "stderr",
     "output_type": "stream",
     "text": [
      "/usr/local/lib/python3.6/site-packages/keras/engine/training.py:973: UserWarning: Discrepancy between trainable weights and collected trainable weights, did you set `model.trainable` without calling `model.compile` after ?\n",
      "  'Discrepancy between trainable weights and collected trainable'\n"
     ]
    },
    {
     "name": "stdout",
     "output_type": "stream",
     "text": [
      "0 [D loss: 0.887704074382782, acc.: 46.88%] [G loss: 0.42299389839172363]\n",
      "50 [D loss: 0.5687198638916016, acc.: 75.00%] [G loss: 1.5523951053619385]\n",
      "100 [D loss: 0.7873252630233765, acc.: 62.50%] [G loss: 1.4967310428619385]\n",
      "150 [D loss: 0.7701621055603027, acc.: 53.12%] [G loss: 1.5822035074234009]\n",
      "200 [D loss: 0.7039010524749756, acc.: 68.75%] [G loss: 1.6066005229949951]\n",
      "250 [D loss: 0.4751797914505005, acc.: 75.00%] [G loss: 1.6190123558044434]\n",
      "300 [D loss: 0.1784810721874237, acc.: 100.00%] [G loss: 2.3200302124023438]\n",
      "350 [D loss: 0.42844158411026, acc.: 87.50%] [G loss: 1.3978766202926636]\n",
      "400 [D loss: 0.7665106654167175, acc.: 53.12%] [G loss: 1.1048861742019653]\n",
      "450 [D loss: 0.8289031982421875, acc.: 56.25%] [G loss: 1.1448922157287598]\n",
      "500 [D loss: 0.6904113292694092, acc.: 62.50%] [G loss: 1.2740581035614014]\n",
      "550 [D loss: 0.6159642934799194, acc.: 65.62%] [G loss: 1.1556471586227417]\n",
      "600 [D loss: 0.7127884030342102, acc.: 56.25%] [G loss: 1.3481152057647705]\n",
      "650 [D loss: 0.523681640625, acc.: 78.12%] [G loss: 1.0666041374206543]\n",
      "700 [D loss: 0.6664038300514221, acc.: 65.62%] [G loss: 1.2551363706588745]\n",
      "750 [D loss: 0.595728874206543, acc.: 71.88%] [G loss: 1.310750961303711]\n",
      "800 [D loss: 0.7712869644165039, acc.: 59.38%] [G loss: 1.289111614227295]\n",
      "850 [D loss: 0.4100167155265808, acc.: 84.38%] [G loss: 1.0385258197784424]\n",
      "900 [D loss: 0.6234501600265503, acc.: 59.38%] [G loss: 1.5580637454986572]\n",
      "950 [D loss: 0.452339768409729, acc.: 78.12%] [G loss: 1.3064634799957275]\n",
      "1000 [D loss: 0.6383980512619019, acc.: 62.50%] [G loss: 1.4190151691436768]\n",
      "1050 [D loss: 0.49065887928009033, acc.: 81.25%] [G loss: 1.2639150619506836]\n",
      "1100 [D loss: 0.5358700752258301, acc.: 75.00%] [G loss: 1.4557005167007446]\n",
      "1150 [D loss: 0.5411174297332764, acc.: 65.62%] [G loss: 1.1994383335113525]\n",
      "1200 [D loss: 0.5709909200668335, acc.: 71.88%] [G loss: 1.891217589378357]\n",
      "1250 [D loss: 0.5544923543930054, acc.: 75.00%] [G loss: 1.1711628437042236]\n",
      "1300 [D loss: 0.4797202944755554, acc.: 81.25%] [G loss: 1.189896821975708]\n",
      "1350 [D loss: 0.3060402572154999, acc.: 84.38%] [G loss: 1.4125802516937256]\n",
      "1400 [D loss: 0.7090321779251099, acc.: 50.00%] [G loss: 1.315683126449585]\n",
      "1450 [D loss: 0.5015942454338074, acc.: 71.88%] [G loss: 1.4344152212142944]\n",
      "1500 [D loss: 0.6654527187347412, acc.: 53.12%] [G loss: 1.4651758670806885]\n",
      "1550 [D loss: 0.4723624587059021, acc.: 78.12%] [G loss: 1.3700411319732666]\n",
      "1600 [D loss: 0.4197951555252075, acc.: 87.50%] [G loss: 1.845672607421875]\n",
      "1650 [D loss: 0.4583238959312439, acc.: 78.12%] [G loss: 1.6355254650115967]\n",
      "1700 [D loss: 0.564299464225769, acc.: 65.62%] [G loss: 1.2960625886917114]\n",
      "1750 [D loss: 0.4131762385368347, acc.: 84.38%] [G loss: 1.6354737281799316]\n",
      "1800 [D loss: 0.34532421827316284, acc.: 87.50%] [G loss: 1.3828539848327637]\n",
      "1850 [D loss: 0.43785953521728516, acc.: 75.00%] [G loss: 1.9958513975143433]\n",
      "1900 [D loss: 0.5076932907104492, acc.: 71.88%] [G loss: 1.903428554534912]\n",
      "1950 [D loss: 0.5623652935028076, acc.: 71.88%] [G loss: 1.919521689414978]\n",
      "2000 [D loss: 0.4011894762516022, acc.: 75.00%] [G loss: 2.019221067428589]\n",
      "2050 [D loss: 0.4574658274650574, acc.: 71.88%] [G loss: 1.2912919521331787]\n",
      "2100 [D loss: 0.4286878705024719, acc.: 84.38%] [G loss: 1.545839548110962]\n",
      "2150 [D loss: 0.24645256996154785, acc.: 93.75%] [G loss: 2.657437801361084]\n",
      "2200 [D loss: 0.5706828236579895, acc.: 68.75%] [G loss: 1.243045687675476]\n",
      "2250 [D loss: 0.1801397204399109, acc.: 100.00%] [G loss: 1.8691365718841553]\n",
      "2300 [D loss: 0.717939019203186, acc.: 56.25%] [G loss: 1.0218833684921265]\n",
      "2350 [D loss: 0.4771842956542969, acc.: 84.38%] [G loss: 1.7105131149291992]\n",
      "2400 [D loss: 0.4021657407283783, acc.: 84.38%] [G loss: 2.1594133377075195]\n",
      "2450 [D loss: 0.7065634727478027, acc.: 59.38%] [G loss: 3.2193045616149902]\n",
      "2500 [D loss: 0.28163114190101624, acc.: 93.75%] [G loss: 2.3565514087677]\n",
      "2550 [D loss: 0.49171900749206543, acc.: 75.00%] [G loss: 1.774253010749817]\n",
      "2600 [D loss: 0.23532156646251678, acc.: 90.62%] [G loss: 1.8152916431427002]\n",
      "2650 [D loss: 0.27986031770706177, acc.: 87.50%] [G loss: 2.0972790718078613]\n",
      "2700 [D loss: 0.1269894540309906, acc.: 93.75%] [G loss: 1.5379667282104492]\n",
      "2750 [D loss: 0.14913906157016754, acc.: 93.75%] [G loss: 2.730076313018799]\n",
      "2800 [D loss: 0.24076375365257263, acc.: 93.75%] [G loss: 3.430408477783203]\n",
      "2850 [D loss: 0.11462535709142685, acc.: 96.88%] [G loss: 2.7899231910705566]\n",
      "2900 [D loss: 0.7486951351165771, acc.: 62.50%] [G loss: 1.2977488040924072]\n",
      "2950 [D loss: 0.2678292393684387, acc.: 96.88%] [G loss: 3.5092740058898926]\n",
      "3000 [D loss: 0.3537050485610962, acc.: 87.50%] [G loss: 2.3864171504974365]\n",
      "3050 [D loss: 0.33438777923583984, acc.: 81.25%] [G loss: 2.766806125640869]\n",
      "3100 [D loss: 0.7180631756782532, acc.: 71.88%] [G loss: 1.7254624366760254]\n",
      "3150 [D loss: 0.4499381184577942, acc.: 84.38%] [G loss: 2.196998357772827]\n",
      "3200 [D loss: 0.25322163105010986, acc.: 90.62%] [G loss: 2.9298222064971924]\n",
      "3250 [D loss: 0.7494572401046753, acc.: 65.62%] [G loss: 3.146298408508301]\n",
      "3300 [D loss: 0.24794408679008484, acc.: 93.75%] [G loss: 3.025045394897461]\n",
      "3350 [D loss: 0.3425610661506653, acc.: 81.25%] [G loss: 3.758392333984375]\n",
      "3400 [D loss: 1.0415606498718262, acc.: 56.25%] [G loss: 1.1345250606536865]\n",
      "3450 [D loss: 0.19695976376533508, acc.: 93.75%] [G loss: 3.3311784267425537]\n",
      "3500 [D loss: 0.31500619649887085, acc.: 84.38%] [G loss: 3.283813953399658]\n",
      "3550 [D loss: 0.541291356086731, acc.: 71.88%] [G loss: 2.640565872192383]\n",
      "3600 [D loss: 0.3902634084224701, acc.: 84.38%] [G loss: 3.859194278717041]\n",
      "3650 [D loss: 0.33329352736473083, acc.: 84.38%] [G loss: 2.027937173843384]\n",
      "3700 [D loss: 1.0735447406768799, acc.: 40.62%] [G loss: 1.6245481967926025]\n",
      "3750 [D loss: 0.20123976469039917, acc.: 93.75%] [G loss: 2.6990203857421875]\n",
      "3800 [D loss: 0.49499547481536865, acc.: 81.25%] [G loss: 1.9972732067108154]\n",
      "3850 [D loss: 0.09039831161499023, acc.: 100.00%] [G loss: 2.7454659938812256]\n",
      "3900 [D loss: 0.3488166034221649, acc.: 78.12%] [G loss: 1.1595559120178223]\n",
      "3950 [D loss: 0.23559999465942383, acc.: 96.88%] [G loss: 2.4685592651367188]\n"
     ]
    }
   ],
   "source": [
    "train(generator, discriminator, combined, epochs=4000, batch_size=32, save_interval=50)"
   ]
  },
  {
   "cell_type": "code",
   "execution_count": 599,
   "metadata": {
    "scrolled": false
   },
   "outputs": [
    {
     "data": {
      "image/png": "[encoded data removed]",
      "text/plain": [
       "<matplotlib.figure.Figure at 0x18ff7e0f0>"
      ]
     },
     "metadata": {},
     "output_type": "display_data"
    },
    {
     "data": {
      "image/png": "[encoded data removed]",
      "text/plain": [
       "<matplotlib.figure.Figure at 0x18f30cac8>"
      ]
     },
     "metadata": {},
     "output_type": "display_data"
    },
    {
     "data": {
      "image/png": "[encoded data removed]",
      "text/plain": [
       "<matplotlib.figure.Figure at 0x190485518>"
      ]
     },
     "metadata": {},
     "output_type": "display_data"
    },
    {
     "data": {
      "image/png": "[encoded data removed]",
      "text/plain": [
       "<matplotlib.figure.Figure at 0x190339358>"
      ]
     },
     "metadata": {},
     "output_type": "display_data"
    },
    {
     "data": {
      "image/png": "[encoded data removed]",
      "text/plain": [
       "<matplotlib.figure.Figure at 0x1918b2f28>"
      ]
     },
     "metadata": {},
     "output_type": "display_data"
    },
    {
     "data": {
      "image/png": "[encoded data removed]",
      "text/plain": [
       "<matplotlib.figure.Figure at 0x1922d8e48>"
      ]
     },
     "metadata": {},
     "output_type": "display_data"
    },
    {
     "data": {
      "image/png": "[encoded data removed]",
      "text/plain": [
       "<matplotlib.figure.Figure at 0x192337f28>"
      ]
     },
     "metadata": {},
     "output_type": "display_data"
    },
    {
     "data": {
      "image/png": "[encoded data removed]",
      "text/plain": [
       "<matplotlib.figure.Figure at 0x192323198>"
      ]
     },
     "metadata": {},
     "output_type": "display_data"
    },
    {
     "data": {
      "image/png": "[encoded data removed]",
      "text/plain": [
       "<matplotlib.figure.Figure at 0x192333550>"
      ]
     },
     "metadata": {},
     "output_type": "display_data"
    },
    {
     "data": {
      "image/png": "[encoded data removed]",
      "text/plain": [
       "<matplotlib.figure.Figure at 0x192b072b0>"
      ]
     },
     "metadata": {},
     "output_type": "display_data"
    }
   ],
   "source": [
    "for i in range(0,10):\n",
    "    show_new_image(generator)\n",
    "    plt.show()"
   ]
  },
  {
   "cell_type": "code",
   "execution_count": 408,
   "metadata": {},
   "outputs": [],
   "source": [
    "generator.save('generator_flag_small.h5')\n",
    "discriminator.save('discriminator_flag_small.h5')\n",
    "combined.save('combined_flag_small.h5')"
   ]
  },
  {
   "cell_type": "code",
   "execution_count": null,
   "metadata": {},
   "outputs": [],
   "source": []
  }
 ],
 "metadata": {
  "kernelspec": {
   "display_name": "Python 3",
   "language": "python",
   "name": "python3"
  },
  "language_info": {
   "codemirror_mode": {
    "name": "ipython",
    "version": 3
   },
   "file_extension": ".py",
   "mimetype": "text/x-python",
   "name": "python",
   "nbconvert_exporter": "python",
   "pygments_lexer": "ipython3",
   "version": "3.6.4"
  }
 },
 "nbformat": 4,
 "nbformat_minor": 2
}
